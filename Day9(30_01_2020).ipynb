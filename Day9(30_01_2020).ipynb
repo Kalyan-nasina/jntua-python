{
  "nbformat": 4,
  "nbformat_minor": 0,
  "metadata": {
    "colab": {
      "name": "Day9(30-01-2020)",
      "provenance": [],
      "authorship_tag": "ABX9TyOaboL77ny1vXZuuUGcmhtU",
      "include_colab_link": true
    },
    "kernelspec": {
      "name": "python3",
      "display_name": "Python 3"
    }
  },
  "cells": [
    {
      "cell_type": "markdown",
      "metadata": {
        "id": "view-in-github",
        "colab_type": "text"
      },
      "source": [
        "<a href=\"https://colab.research.google.com/github/kalyan501/jntua-python/blob/master/Day9(30_01_2020).ipynb\" target=\"_parent\"><img src=\"https://colab.research.google.com/assets/colab-badge.svg\" alt=\"Open In Colab\"/></a>"
      ]
    },
    {
      "cell_type": "markdown",
      "metadata": {
        "id": "CGgJYyRD9pz-",
        "colab_type": "text"
      },
      "source": [
        "# Markdown\n",
        "## Markdown\n",
        "## Markdown"
      ]
    },
    {
      "cell_type": "markdown",
      "metadata": {
        "id": "5FBRkAfg-mwq",
        "colab_type": "text"
      },
      "source": [
        "*hello*\n",
        "**kalyan**\n",
        "***kalyan***"
      ]
    },
    {
      "cell_type": "markdown",
      "metadata": {
        "id": "wqGdmpGPA6Cf",
        "colab_type": "text"
      },
      "source": [
        "**Adding**\n",
        "[site](https://www.jntua.ac.in/)"
      ]
    },
    {
      "cell_type": "markdown",
      "metadata": {
        "id": "vBV4a323B18O",
        "colab_type": "text"
      },
      "source": [
        "### image insertion\n",
        "![image](https://encrypted-tbn0.gstatic.com/images?q=tbn:ANd9GcQ0fPyt0yKXvTBjm7rS4QRmW1vgVe_-IoBOB9nz9czR54XZ82g1&s)"
      ]
    },
    {
      "cell_type": "code",
      "metadata": {
        "id": "xYHMdfBkCbAe",
        "colab_type": "code",
        "colab": {
          "base_uri": "https://localhost:8080/",
          "height": 34
        },
        "outputId": "eae8632a-6112-428b-e32d-c65a43329b12"
      },
      "source": [
        "print(\"hello world\")"
      ],
      "execution_count": 2,
      "outputs": [
        {
          "output_type": "stream",
          "text": [
            "hello world\n"
          ],
          "name": "stdout"
        }
      ]
    },
    {
      "cell_type": "markdown",
      "metadata": {
        "id": "LRoWxOLPDTWB",
        "colab_type": "text"
      },
      "source": [
        "### variable "
      ]
    },
    {
      "cell_type": "code",
      "metadata": {
        "id": "bH4X898yEFAx",
        "colab_type": "code",
        "colab": {}
      },
      "source": [
        "n1 =100# single variable assignment\n",
        "print(n1)\n",
        "a = b = c = 10 # multi variable assignment\n",
        "print(a,b,c)\n",
        "a1,b1,c1=100,200,300 # multi values for multi variables\n",
        "print(a1,b1,c1)"
      ],
      "execution_count": 0,
      "outputs": []
    },
    {
      "cell_type": "markdown",
      "metadata": {
        "id": "1Gqzw_SpKmy4",
        "colab_type": "text"
      },
      "source": [
        "# datatypes & conversions\n",
        "* int \n",
        "* float\n",
        "* String"
      ]
    },
    {
      "cell_type": "code",
      "metadata": {
        "id": "V-azSkztK1gy",
        "colab_type": "code",
        "colab": {}
      },
      "source": [
        "a = 100\n",
        "s1 = 10.2\n",
        "s2 = \"python\"\n",
        "print(type(a),type(s1),type(s2))"
      ],
      "execution_count": 0,
      "outputs": []
    },
    {
      "cell_type": "code",
      "metadata": {
        "id": "CNbuBfFsLzzt",
        "colab_type": "code",
        "colab": {}
      },
      "source": [
        "i = 100\n",
        "print(type(i))\n",
        "s1 =  str(i)\n",
        "print(type(s1))\n",
        "f1 = float(i)\n",
        "print(type(f1))"
      ],
      "execution_count": 0,
      "outputs": []
    },
    {
      "cell_type": "markdown",
      "metadata": {
        "id": "DE2o6xVoM1qA",
        "colab_type": "text"
      },
      "source": [
        "#### length"
      ]
    },
    {
      "cell_type": "code",
      "metadata": {
        "id": "-OaYAMDMM5XO",
        "colab_type": "code",
        "colab": {}
      },
      "source": [
        "a = 123456\n",
        "print(len(str(a)))"
      ],
      "execution_count": 0,
      "outputs": []
    },
    {
      "cell_type": "markdown",
      "metadata": {
        "id": "3-OSV9THNl6L",
        "colab_type": "text"
      },
      "source": [
        "#### reading input from user"
      ]
    },
    {
      "cell_type": "code",
      "metadata": {
        "id": "tZ0Ba8g-NtB9",
        "colab_type": "code",
        "colab": {}
      },
      "source": [
        "a = input(\"enter ur name:\")\n",
        "print(a)\n",
        "print(type(a))"
      ],
      "execution_count": 0,
      "outputs": []
    },
    {
      "cell_type": "code",
      "metadata": {
        "id": "N3vpJ82xOVFZ",
        "colab_type": "code",
        "colab": {}
      },
      "source": [
        "b = int(input(\"enter ur age:\"))\n",
        "print(b)\n",
        "print(type(b))"
      ],
      "execution_count": 0,
      "outputs": []
    },
    {
      "cell_type": "markdown",
      "metadata": {
        "id": "ynPB9eoIPLgg",
        "colab_type": "text"
      },
      "source": [
        "#### operators"
      ]
    },
    {
      "cell_type": "markdown",
      "metadata": {
        "id": "TZuZOzacPjTa",
        "colab_type": "text"
      },
      "source": [
        "#### Arithmetic operators\n",
        "* +\n",
        "* -\n",
        "* *\n",
        "* /\n",
        "* %\n",
        "* //\n",
        "* **(power)"
      ]
    },
    {
      "cell_type": "code",
      "metadata": {
        "id": "lvdAbWNZPnq_",
        "colab_type": "code",
        "colab": {}
      },
      "source": [
        "a = 1234\n",
        "print(a+10)\n",
        "print(a-10)\n",
        "print(a*10)\n",
        "print(a/10)\n",
        "print(a%10)\n",
        "print(a//10)\n",
        "print(a**10)"
      ],
      "execution_count": 0,
      "outputs": []
    },
    {
      "cell_type": "markdown",
      "metadata": {
        "id": "ikr_PtJ8RTFM",
        "colab_type": "text"
      },
      "source": [
        "#### relational operator\n",
        "* =\n",
        "* ==\n",
        "* !=\n",
        "* <\n",
        "* \">\"\n",
        "* <=\n",
        "* \">=\"\n"
      ]
    },
    {
      "cell_type": "code",
      "metadata": {
        "id": "FJbZG8peSF0Q",
        "colab_type": "code",
        "colab": {}
      },
      "source": [
        "x = 10\n",
        "a1 = x > 15\n",
        "print(a1)\n"
      ],
      "execution_count": 0,
      "outputs": []
    },
    {
      "cell_type": "markdown",
      "metadata": {
        "id": "cQS0F2QoTCad",
        "colab_type": "text"
      },
      "source": [
        "#### logical operators\n",
        "* and\n",
        "* or\n",
        "* not"
      ]
    },
    {
      "cell_type": "code",
      "metadata": {
        "id": "ugUqPDOPTTvz",
        "colab_type": "code",
        "colab": {
          "base_uri": "https://localhost:8080/",
          "height": 68
        },
        "outputId": "c9b3805e-7f73-4677-9b47-5ed2bc2e50e1"
      },
      "source": [
        "i = 100\n",
        "a1 = i>15 and i < 800\n",
        "a2 = i>15 or i > 800\n",
        "i =  not 10\n",
        "print(a1)\n",
        "print(a2)\n",
        "print(i)"
      ],
      "execution_count": 5,
      "outputs": [
        {
          "output_type": "stream",
          "text": [
            "True\n",
            "True\n",
            "False\n"
          ],
          "name": "stdout"
        }
      ]
    },
    {
      "cell_type": "markdown",
      "metadata": {
        "id": "ELt6x6wzUweS",
        "colab_type": "text"
      },
      "source": [
        "### control flow statements\n",
        "* condtional statements\n",
        "* looping statements\n"
      ]
    },
    {
      "cell_type": "markdown",
      "metadata": {
        "id": "u3XqwS7vVHs7",
        "colab_type": "text"
      },
      "source": [
        "# if-else statement\n",
        "## syntax\n",
        "###if Boolean_condition:\n",
        "###statements\n",
        "###else:\n",
        "###statements"
      ]
    },
    {
      "cell_type": "code",
      "metadata": {
        "id": "8_D7q9wOVmYd",
        "colab_type": "code",
        "colab": {}
      },
      "source": [
        "# to check given no is even or odd\n",
        "a = int(input(\"enter the no\"))\n",
        "if a%2==0:\n",
        "  print(a,\"even\")\n",
        "else:\n",
        "  print(a,\"odd\")"
      ],
      "execution_count": 0,
      "outputs": []
    },
    {
      "cell_type": "code",
      "metadata": {
        "id": "GHUrGzzzVK--",
        "colab_type": "code",
        "colab": {
          "base_uri": "https://localhost:8080/",
          "height": 51
        },
        "outputId": "8dd2fb58-93fc-4d1b-ea50-98bed247528a"
      },
      "source": [
        "# to check given number is perfectly multiples of 3 and 5\n",
        "a = int(input(\"enter no:\"))\n",
        "if a%3 == 0 and a%5 ==0:\n",
        "  print(a,\"is multiple of 3 and 5\")\n",
        "else:\n",
        "  print(\"not multiple\")  "
      ],
      "execution_count": 2,
      "outputs": [
        {
          "output_type": "stream",
          "text": [
            "enter no:15\n",
            "15 multiple of 3 and 5\n"
          ],
          "name": "stdout"
        }
      ]
    },
    {
      "cell_type": "code",
      "metadata": {
        "id": "ZSuI3Uy9ZDiS",
        "colab_type": "code",
        "colab": {}
      },
      "source": [
        "# given number is positve neg or 0\n",
        "a = int(input(\"enter no\"))\n",
        "if a<0:\n",
        "  print(\"negative\")\n",
        "if a>0:\n",
        "  print(\"postive\")\n",
        "if a==0:\n",
        "  print(\"zero\")      "
      ],
      "execution_count": 0,
      "outputs": []
    },
    {
      "cell_type": "code",
      "metadata": {
        "colab_type": "code",
        "id": "Yvns-4uJbStB",
        "colab": {}
      },
      "source": [
        "# biggest of 3\n",
        "a = int(input(\"enter a:\"))\n",
        "b = int(input(\"enter b:\"))\n",
        "c = int(input(\"enter c:\"))\n",
        "if a>b and a>c:\n",
        "   print(\"a is big\")\n",
        "elif b>c:\n",
        "  print(\"b is big\")\n",
        "else:\n",
        "  print(\"c is big\")  "
      ],
      "execution_count": 0,
      "outputs": []
    },
    {
      "cell_type": "code",
      "metadata": {
        "id": "F_-RXgpIbTQd",
        "colab_type": "code",
        "colab": {}
      },
      "source": [
        "# leap year\n",
        "a = int(input(\"enter a:\"))\n",
        "if a%400==0 and a%100 != 0 or a % 4==0:\n",
        "  print(\"leap year\")\n",
        "else:\n",
        "  print(\"not leap year\")  "
      ],
      "execution_count": 0,
      "outputs": []
    }
  ]
}